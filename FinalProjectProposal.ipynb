{
 "cells": [
  {
   "cell_type": "markdown",
   "metadata": {},
   "source": [
    "### Final Project Proposal\n",
    "### Priyanka Bijlani\n",
    "### Data 512"
   ]
  },
  {
   "cell_type": "markdown",
   "metadata": {},
   "source": [
    "### Motivation\n",
    "\n",
    "For this project, I will analyze articles published by Mashable in a period of two years. The goal of this exploratory analysis is to determine which types of articles are more popular on certain platforms such as social media. I find this topic interesting because it is known that social media plays a role in changing people's perspectives and has a significant influencing power. It would be interesting to see what types of articles receive more shares. From this analysis, I hope to learn more about the trends in news sharing and whether changing certain aspects of an article can attract more shares."
   ]
  },
  {
   "cell_type": "markdown",
   "metadata": {},
   "source": [
    "### Data\n",
    "\n",
    "The dataset I plan to use is the Online News Popularity Data Set from the UCI Machine Learning Repository. \n",
    " - Dataset Link: http://archive.ics.uci.edu/ml/datasets/Online+News+Popularity#\n",
    "\n",
    "This dataset has 61 features which makes it a good multivariate dataset for exploratory analysis. It also has 39797 rows or articles for analysis. There is no license available for the dataset. The dataset does not contain any content from the aricles themselves, but instead only specific statistics related to each article that were separately compiled. The articles themselves are not publicly available, therefore cannot be directly analyzed. The terms of use for this data are to cite the compilers as shown:\n",
    " - K. Fernandes, P. Vinagre and P. Cortez. A Proactive Intelligent Decision Support System for Predicting the Popularity of Online News. Proceedings of the 17th EPIA 2015 - Portuguese Conference on Artificial Intelligence, September, Coimbra, Portugal.\n",
    " \n",
    "This dataset contains many features that address my points of interest such as worst keyword, best keyword, day article was published, negative word count, postive word count, total shares. There is a lof of potential to find trends for aricles with high or low shares with these features. It also has a large sample of articles so that the trends found would have statistical value. Some of the ethical considerations in using this dataset are that the word classfication is dependant on the author, therefore it contains a certain level of bias. Also, there are subjective features like best and worst word which are also subject to bias since they are from the author's perspective."
   ]
  },
  {
   "cell_type": "markdown",
   "metadata": {},
   "source": [
    "### Unknowns\n",
    "\n",
    "At this point, there are no major raodblocks to completing this project by the end of the quarter. The data is in a downloadable format and easily accessible. "
   ]
  },
  {
   "cell_type": "markdown",
   "metadata": {},
   "source": [
    "### Research questions\n",
    "\n",
    "1. Does the theme of the news article affect the number of shares on an online platform? \n",
    "2. Which theme is most effective in gaining online popularity?\n",
    "3. Do articles with stronger sentiments (more negativity or positivity) recieve more shares than neutral articles?\n",
    "4. Does the day an article was published impact the amount of shares it receives?"
   ]
  },
  {
   "cell_type": "markdown",
   "metadata": {},
   "source": [
    "### Background/Related Work\n",
    "\n",
    "Online news sharing is a common practice as people are more and more addicted to their phones. As shown in the Netflix film, The Social Dilemma, polarized news makes its way into people's news feed through complex algorithms in such a way that cannot be monitored or controlled. This becomes a serious problem in the spreading of fake news. There is a lot of responsibility on the part of news creators to be responsible in their writing so that they do not become pawns of these sophisticated algorigthms. Watching this movie made me curious about what factors influence sharing of articles. I shaped my reseach questions to explore different facets of the articles to determine whether they influence the number of shares. This analysis would reveal how authors can shape their content to attract more audiences while still maintaining a non-polar stance. The Journal of Communication article, \"The Social News Gap: How News Reading and News Sharing Diverge\" by Jonathan Bright talks about the same issue of polarization in online news[1]. He explains how news editors have immense power in shaping the wave of social media based on their approach to news writing and editing[1]. My research questions are designed to understand which aspects of articles are within the power of news editors and which are not. "
   ]
  },
  {
   "cell_type": "markdown",
   "metadata": {},
   "source": [
    "### Methodology\n",
    "\n",
    "##### 1. Does the theme of the news article affect the number of shares on an online platform? \n",
    "To answer this question, I will conduct an exploratory data analysis on the theme features of the dataset. These features are indicator variables. Aggregating the results for each theme with visual plots will help me understand which themes recieve more shares.\n",
    "##### 2. Which theme is most effective in gaining online popularity? \n",
    "This question relates to the above question. If the theme does not have significance in number of shares, then this question does not have a definite answer. However, comparing the themes side-by-side can reveal if a particular theme is more effective in gaining online popularity. Plotting all the themes together will help  me understand a major aspect of online news popularity.\n",
    "##### 3. Do articles with stronger sentiments (more negativity or positivity) recieve more shares than neutral articles? \n",
    "To delve into this research question, I will analyze features related to the content in the articles such as global subjectivity and global sentiment polarity. These along with other features analyzed individually and together will reveal insights on role of polarization in news sharing. It will help me understand whether the tone of an article affects how namy times it is shared.\n",
    "##### 4. Does the day an article was published impact the amount of shares it receives? \n",
    "This dataset contains information on which day of the week an article was shared. To answer this question, I can create a feature that groups articles into publish day based on weekday or weekend. Plotting number of shares based on this feature will help me understand whether publishers can use this feature as a marketing decision for attracting higher number of shares."
   ]
  },
  {
   "cell_type": "markdown",
   "metadata": {},
   "source": [
    "### References\n",
    "\n",
    "[1] Jonathan Bright, The Social News Gap: How News Reading and News Sharing Diverge, Journal of Communication, Volume 66, Issue 3, June 2016, Pages 343–365, https://doi.org/10.1111/jcom.12232"
   ]
  },
  {
   "cell_type": "code",
   "execution_count": null,
   "metadata": {},
   "outputs": [],
   "source": []
  }
 ],
 "metadata": {
  "kernelspec": {
   "display_name": "Python 3",
   "language": "python",
   "name": "python3"
  },
  "language_info": {
   "codemirror_mode": {
    "name": "ipython",
    "version": 3
   },
   "file_extension": ".py",
   "mimetype": "text/x-python",
   "name": "python",
   "nbconvert_exporter": "python",
   "pygments_lexer": "ipython3",
   "version": "3.8.2"
  }
 },
 "nbformat": 4,
 "nbformat_minor": 4
}
