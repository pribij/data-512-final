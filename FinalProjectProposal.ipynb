{
 "cells": [
  {
   "cell_type": "markdown",
   "metadata": {},
   "source": [
    "### Motivation\n",
    "\n",
    "For this project, I will analyze articles published by Mashable in a period of two years. The goal of this exploratory analysis is to determine which types of articles are more popular on certain platforms such as social media. I find this topic interesting because it is known that social media plays a role in changing people's perspectives and has a significant influencing power. It would be interesting to see what types of articles receive more shares. From this analysis, I hope to learn more about the trends in news sharing and whether changing certain aspects of an article can attract more shares."
   ]
  },
  {
   "cell_type": "markdown",
   "metadata": {},
   "source": [
    "### Data\n",
    "\n",
    "The dataset I plan to use is the Online News Popularity Data Set from the UCI Machine Learning Repository. \n",
    " - Dataset Link: http://archive.ics.uci.edu/ml/datasets/Online+News+Popularity#\n",
    "\n",
    "This dataset has 61 features which makes it a good multivariate dataset for exploratory analysis. It also has 39797 rows or articles for analysis. There is no license available for the dataset. The dataset does not contain any content from the aricles themselves, but instead only specific statistics related to each article that were separately compiled. The articles themselves are not publicly available, therefore cannot be directly analyzed. The terms of use for this data are to cite the compilers as shown:\n",
    " - K. Fernandes, P. Vinagre and P. Cortez. A Proactive Intelligent Decision Support System for Predicting the Popularity of Online News. Proceedings of the 17th EPIA 2015 - Portuguese Conference on Artificial Intelligence, September, Coimbra, Portugal.\n",
    " \n",
    "This dataset contains many features that address my points of interest such as worst keyword, best keyword, day article was published, negative word count, postive word count, total shares. There is a lof of potential to find trends for aricles with high or low shares with these features. It also has a large sample of articles so that the trends found would have statistical value. Some of the ethical considerations in using this dataset are that the word classfication is dependant on the author, therefore it contains a certain level of bias. Also, there are subjective features like best and worst word which are also subject to bias since they are from the author's perspective."
   ]
  },
  {
   "cell_type": "markdown",
   "metadata": {},
   "source": [
    "### Unknowns\n",
    "\n",
    "At this point, there are no major raodblocks to completing this project by the end of the quarter. The data is in a downloadable format and easily accessible. "
   ]
  }
 ],
 "metadata": {
  "kernelspec": {
   "display_name": "Python 3",
   "language": "python",
   "name": "python3"
  },
  "language_info": {
   "codemirror_mode": {
    "name": "ipython",
    "version": 3
   },
   "file_extension": ".py",
   "mimetype": "text/x-python",
   "name": "python",
   "nbconvert_exporter": "python",
   "pygments_lexer": "ipython3",
   "version": "3.8.2"
  }
 },
 "nbformat": 4,
 "nbformat_minor": 4
}
